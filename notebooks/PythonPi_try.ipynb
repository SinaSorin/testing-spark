{
 "cells": [
  {
   "cell_type": "code",
   "execution_count": 1,
   "id": "affad488-0945-428e-a4d8-b36ebd12fde3",
   "metadata": {},
   "outputs": [
    {
     "name": "stdout",
     "output_type": "stream",
     "text": [
      "http://e2cf6c0181ff:4041\n",
      "Pi is roughly 3.141821\n",
      "Calculation took 4.00 seconds\n"
     ]
    }
   ],
   "source": [
    "from pyspark.sql import SparkSession\n",
    "from random import random\n",
    "from operator import add\n",
    "import time\n",
    "\n",
    "#spark = SparkSession.builder.appName(\"PythonPi\").getOrCreate()\n",
    "\n",
    "spark = SparkSession.builder \\\n",
    "    .master(\"local[*]\") \\\n",
    "    .appName(\"My Spark Application\") \\\n",
    "    .config(\"spark.ui.port\", \"4040\") \\\n",
    "    .getOrCreate()\n",
    "    #.config(\"spark.executor.memory\", \"2g\") \\\n",
    "    #.config(\"spark.executor.cores\", \"2\") \\\n",
    "\n",
    "\n",
    "sc = spark.sparkContext\n",
    "print(sc.uiWebUrl)\n",
    "start_time = time.time()\n",
    "num_samples = 10_000_000\n",
    "\n",
    "def inside(p):\n",
    "    x, y = random(), random()\n",
    "    return x*x + y*y < 1\n",
    "\n",
    "count = sc.parallelize(range(num_samples)).filter(inside).count()\n",
    "\n",
    "pi = 4 * count / num_samples\n",
    "print(\"Pi is roughly %f\" % pi)\n",
    "\n",
    "end_time = time.time()\n",
    "elapsed_time = end_time - start_time\n",
    "print(f\"Calculation took {elapsed_time:.2f} seconds\")\n",
    "\n"
   ]
  },
  {
   "cell_type": "code",
   "execution_count": 2,
   "id": "4ab5fdf0-3b06-4f1b-ad31-dd25e37a7794",
   "metadata": {},
   "outputs": [
    {
     "name": "stdout",
     "output_type": "stream",
     "text": [
      "Pi is roughly 3.141286\n",
      "Calculation took 0.52 seconds\n"
     ]
    }
   ],
   "source": [
    "import numpy as np\n",
    "\n",
    "\n",
    "num_samples = 10_000_000\n",
    "\n",
    "start_time = time.time()\n",
    "\n",
    "# Using NumPy to generate random points efficiently\n",
    "x = np.random.rand(num_samples)\n",
    "y = np.random.rand(num_samples)\n",
    "inside_points = (x**2 + y**2) < 1\n",
    "\n",
    "# Count how many points fall inside the unit circle\n",
    "count = np.sum(inside_points)\n",
    "\n",
    "# Calculate Pi\n",
    "pi = 4 * count / num_samples\n",
    "\n",
    "end_time = time.time()\n",
    "elapsed_time = end_time - start_time\n",
    "\n",
    "print(f\"Pi is roughly {pi:.6f}\")\n",
    "print(f\"Calculation took {elapsed_time:.2f} seconds\")\n"
   ]
  },
  {
   "cell_type": "code",
   "execution_count": 3,
   "id": "1dce1543-1bdd-4f8f-bca0-49f136178112",
   "metadata": {},
   "outputs": [
    {
     "name": "stdout",
     "output_type": "stream",
     "text": [
      "Result is: 15\n",
      "5\n"
     ]
    }
   ],
   "source": [
    "from pyspark.sql import SparkSession\n",
    "\n",
    "if __name__ == \"__main__\":\n",
    "    spark = SparkSession.builder \\\n",
    "    .appName(\"MyLocalSparkApp\") \\\n",
    "    .master(\"local[*]\") \\\n",
    "    .getOrCreate()\n",
    "\n",
    "    sc = spark.sparkContext\n",
    "\n",
    "    data = [1, 2, 3, 4, 5]\n",
    "    distData = sc.parallelize(data)\n",
    "    result = distData.reduce(lambda a, b: a + b)\n",
    "    print(f\"Result is: {result}\")\n",
    "    rdd = sc.parallelize([1, 2, 3, 4, 5])\n",
    "    print(rdd.count())  # This is an action that triggers job execution\n",
    "    \n"
   ]
  },
  {
   "cell_type": "code",
   "execution_count": null,
   "id": "a833586f-1b50-4862-8527-ecdf68a36130",
   "metadata": {},
   "outputs": [],
   "source": []
  }
 ],
 "metadata": {
  "kernelspec": {
   "display_name": "Python 3 (ipykernel)",
   "language": "python",
   "name": "python3"
  },
  "language_info": {
   "codemirror_mode": {
    "name": "ipython",
    "version": 3
   },
   "file_extension": ".py",
   "mimetype": "text/x-python",
   "name": "python",
   "nbconvert_exporter": "python",
   "pygments_lexer": "ipython3",
   "version": "3.11.6"
  }
 },
 "nbformat": 4,
 "nbformat_minor": 5
}
